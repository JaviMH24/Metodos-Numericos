{
 "cells": [
  {
   "cell_type": "markdown",
   "metadata": {},
   "source": [
    "Conjunto de Ejercicios 1.1"
   ]
  },
  {
   "cell_type": "markdown",
   "metadata": {},
   "source": [
    "1.Demuestre que las siguientes ecuaciones tienen al menos una solución en los intervalos dados."
   ]
  },
  {
   "cell_type": "markdown",
   "metadata": {},
   "source": [
    "$a)$\n",
    "$$ xcos(x)-2x^2+3x-1=0$$\n",
    "Intervalos $[0.2, 0.3]$ y $[1.2, 1.3]$"
   ]
  },
  {
   "cell_type": "markdown",
   "metadata": {},
   "source": [
    "Solución.\n",
    "Para el intervalo $[0.2,0.3]$ sustituyendo los extremos del intervalos en la función asignada se tiene que:\n",
    "$$f(0.2)=0.2cos(0.2)-2(0.2)^2+3(0.2)-1\\approx -0.284$$\n",
    "$$f(0.3)=0.3cos(0.3)-2(0.3)^2+3(0.3)-1\\approx 0.00659$$\n",
    "Por el Teorema del valor intermedio debe existir un número $k \\in [0.2,0.3]$ tal que $f(k)=0$\n",
    "\n",
    "De forma análoga se prueba para el intervalo $[1.2,1.3]$\n"
   ]
  },
  {
   "cell_type": "markdown",
   "metadata": {},
   "source": [
    "2.Determine intervalos que contengan soluciones a las siguientes ecuaciones. "
   ]
  },
  {
   "cell_type": "markdown",
   "metadata": {},
   "source": [
    "$a)$\n",
    "$$x-3^{-x}=0"
   ]
  }
 ],
 "metadata": {
  "language_info": {
   "name": "python"
  }
 },
 "nbformat": 4,
 "nbformat_minor": 2
}
